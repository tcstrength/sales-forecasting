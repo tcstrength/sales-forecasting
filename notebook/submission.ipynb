{
 "cells": [
  {
   "cell_type": "markdown",
   "metadata": {},
   "source": [
    "# Task 1"
   ]
  },
  {
   "cell_type": "code",
   "execution_count": null,
   "metadata": {},
   "outputs": [],
   "source": [
    "import pandas as pd\n",
    "import seaborn as sns\n",
    "from matplotlib import pyplot as plt\n",
    "from pathlib import Path\n",
    "prefix_dir = Path(\"../data\")"
   ]
  },
  {
   "cell_type": "code",
   "execution_count": null,
   "metadata": {},
   "outputs": [],
   "source": [
    "train_df = pd.read_csv(prefix_dir.joinpath(\"train.csv\"), index_col=0)\n",
    "train_df[\"date\"] = pd.to_datetime(train_df[\"date\"], format=\"%d.%m.%Y\")\n",
    "test_df = pd.read_csv(prefix_dir.joinpath(\"test.csv\"), index_col=0)"
   ]
  },
  {
   "cell_type": "markdown",
   "metadata": {},
   "source": [
    "### 1) Understand the data"
   ]
  },
  {
   "cell_type": "markdown",
   "metadata": {},
   "source": [
    "__Check which category has lowest/highest amount__\n",
    "- Check 1: That category has the most items, therefore it has highest amount?\n",
    "    - The more items there are, the more sales will occur (obviously)\n",
    "    - Some categories play a crucial role, like categories 30 and 19, because the ratio of sales by items is much higher than the top category (607, 407 vs 127).\n",
    "    - This ratio indicates that the higher the category's ratio, the more effective its sales.\n",
    "\n",
    "- Check 2: Why the category has very small amount of sales?\n",
    "    - There are items open from 2013 but only one transaction made, may be that item has been abandoned"
   ]
  },
  {
   "cell_type": "code",
   "execution_count": null,
   "metadata": {},
   "outputs": [],
   "source": [
    "t = train_df.copy()\n",
    "t = t.groupby(by=[\"item_category_id\"]).agg(\n",
    "    total=pd.NamedAgg(column=\"item_cnt_day\", aggfunc=\"sum\"),\n",
    "    count=pd.NamedAgg(column=\"item_id\", aggfunc=\"nunique\"),\n",
    "    items=pd.NamedAgg(column=\"item_id\", aggfunc=\"unique\")\n",
    ")\n",
    "t[\"ratio\"] = t[\"total\"] / t[\"count\"]\n",
    "t.sort_values(\"total\", ascending=[False])"
   ]
  },
  {
   "cell_type": "code",
   "execution_count": null,
   "metadata": {},
   "outputs": [],
   "source": [
    "train_df[train_df[\"item_id\"].isin([6669, 17703, 16834, 16835])]"
   ]
  },
  {
   "cell_type": "markdown",
   "metadata": {},
   "source": [
    "__Price of items have changed over time?__\n",
    "- Prices of some items have not changed but some have"
   ]
  },
  {
   "cell_type": "code",
   "execution_count": null,
   "metadata": {},
   "outputs": [],
   "source": [
    "t = train_df[[\"item_id\", \"item_price\"]].copy()\n",
    "t.groupby(\"item_id\").agg(\n",
    "    count=pd.NamedAgg(aggfunc=\"nunique\", column=\"item_price\")\n",
    ").reset_index().describe()"
   ]
  },
  {
   "cell_type": "markdown",
   "metadata": {},
   "source": [
    "__On the same category, different shops have different sales?__\n",
    "- We may need to build separate models for different shops & different category?\n",
    "- Need to create some experiments later!"
   ]
  },
  {
   "cell_type": "code",
   "execution_count": null,
   "metadata": {},
   "outputs": [],
   "source": [
    "t = train_df[train_df[\"item_category_id\"] == 58].copy()\n",
    "t = t.groupby(by=[\"shop_id\", \"date_block_num\"]).agg(\n",
    "    total=pd.NamedAgg(column=\"item_cnt_day\", aggfunc=\"sum\")\n",
    ").reset_index()\n",
    "plt.figure(figsize=(10, 4))\n",
    "sns.lineplot(t, x=\"date_block_num\", y=\"total\", hue=\"shop_id\")"
   ]
  },
  {
   "cell_type": "markdown",
   "metadata": {},
   "source": [
    "__Do people usually spend more on weekend?__\n",
    "- The sales is better on weekends overall\n",
    "\n",
    "__Is there category perform worst on weekends?__\n",
    "- When diving deep to category level, there are categories perform worst on weekends\n",
    "- May be we need to build different models for different categories?"
   ]
  },
  {
   "cell_type": "code",
   "execution_count": null,
   "metadata": {},
   "outputs": [],
   "source": [
    "train_df[\"date\"].dt.weekday.value_counts()"
   ]
  },
  {
   "cell_type": "code",
   "execution_count": null,
   "metadata": {},
   "outputs": [],
   "source": [
    "weekday_mapper = {\n",
    "    0: \"2-mon\",\n",
    "    1: \"3-tue\",\n",
    "    2: \"4-wed\",\n",
    "    3: \"5-thu\",\n",
    "    4: \"6-fri\",\n",
    "    5: \"7-sat\",\n",
    "    6: \"8-sun\"\n",
    "}\n",
    "train_df[\"weekday\"] = train_df[\"date\"].dt.weekday\n",
    "train_df[\"weekend\"] = 0\n",
    "train_df.loc[train_df[\"weekday\"].isin([5, 6]), \"weekend\"] = 1\n",
    "train_df[\"weekday\"] = train_df[\"weekday\"].map(weekday_mapper)"
   ]
  },
  {
   "cell_type": "code",
   "execution_count": null,
   "metadata": {},
   "outputs": [],
   "source": [
    "t = train_df.copy()\n",
    "t = t.groupby(by=[\"weekday\"]).agg(\n",
    "    total=pd.NamedAgg(column=\"item_cnt_day\", aggfunc=\"sum\")\n",
    ").reset_index()\n",
    "plt.figure(figsize=(4, 3))\n",
    "sns.barplot(t, x=\"weekday\", y=\"total\")"
   ]
  },
  {
   "cell_type": "code",
   "execution_count": null,
   "metadata": {},
   "outputs": [],
   "source": [
    "t = train_df.copy()\n",
    "t = t.groupby(by=[\"item_category_id\", \"weekday\", \"weekend\"]).agg(\n",
    "    total=pd.NamedAgg(aggfunc=\"sum\", column=\"item_cnt_day\")\n",
    ").reset_index()\n",
    "t = t.groupby(by=[\"item_category_id\", \"weekend\"]).agg(\n",
    "    min=pd.NamedAgg(aggfunc=\"min\", column=\"total\"),\n",
    "    max=pd.NamedAgg(aggfunc=\"max\", column=\"total\")\n",
    ").reset_index()\n",
    "t = t.pivot(index=[\"item_category_id\"], columns=[\"weekend\"], values=[\"max\", \"min\"])\n",
    "t.head(3)"
   ]
  },
  {
   "cell_type": "code",
   "execution_count": null,
   "metadata": {},
   "outputs": [],
   "source": [
    "t[t[\"max\"][0] > t[\"max\"][1]].head(3)"
   ]
  },
  {
   "cell_type": "code",
   "execution_count": null,
   "metadata": {},
   "outputs": [],
   "source": [
    "t[t[\"min\"][0] > t[\"min\"][1]].head(3)"
   ]
  },
  {
   "cell_type": "markdown",
   "metadata": {},
   "source": [
    "__How the sales perform over months?__\n",
    "- The sales outperforms in December"
   ]
  },
  {
   "cell_type": "code",
   "execution_count": null,
   "metadata": {},
   "outputs": [],
   "source": [
    "t = train_df.copy()\n",
    "t[\"ym\"] = t[\"date\"].dt.strftime(\"%Y-%m\")\n",
    "t = t.groupby(by=[\"ym\"]).agg(\n",
    "    total=pd.NamedAgg(column=\"item_cnt_day\", aggfunc=\"sum\")\n",
    ")\n",
    "plt.figure(figsize=(10, 4))\n",
    "plt.xticks(rotation=45, ha=\"right\")\n",
    "sns.barplot(t, x=\"ym\", y=\"total\")"
   ]
  },
  {
   "cell_type": "markdown",
   "metadata": {},
   "source": [
    "### 2) Build features"
   ]
  },
  {
   "cell_type": "code",
   "execution_count": 1,
   "metadata": {},
   "outputs": [],
   "source": [
    "import pandas as pd\n",
    "import numpy as np\n",
    "from pathlib import Path\n",
    "from model.dataset import Dataset\n",
    "from model.feature import FeatureExtraction"
   ]
  },
  {
   "cell_type": "code",
   "execution_count": 2,
   "metadata": {},
   "outputs": [
    {
     "name": "stderr",
     "output_type": "stream",
     "text": [
      "\u001b[32m2024-09-21 14:37:31.113\u001b[0m | \u001b[1mINFO    \u001b[0m | \u001b[36mmodel.dataset\u001b[0m:\u001b[36m_prepare_dataset\u001b[0m:\u001b[36m52\u001b[0m - \u001b[1mTest date block num: 34\u001b[0m\n"
     ]
    }
   ],
   "source": [
    "dataset = Dataset(\"../data/raw\")\n",
    "feature = FeatureExtraction(dataset)"
   ]
  },
  {
   "cell_type": "code",
   "execution_count": 3,
   "metadata": {},
   "outputs": [
    {
     "name": "stderr",
     "output_type": "stream",
     "text": [
      "\u001b[32m2024-09-21 14:37:34.821\u001b[0m | \u001b[1mINFO    \u001b[0m | \u001b[36mmodel.feature\u001b[0m:\u001b[36mextract_features\u001b[0m:\u001b[36m111\u001b[0m - \u001b[1mExtract features for block_num=33\u001b[0m\n",
      "Feature Extraction: 100%|██████████| 40/40 [00:17<00:00,  2.31it/s]\n",
      "Feature Extraction: 100%|██████████| 40/40 [00:13<00:00,  2.93it/s]\n",
      "Feature Extraction: 100%|██████████| 40/40 [00:09<00:00,  4.07it/s]\n",
      "Feature Extraction: 100%|██████████| 40/40 [00:05<00:00,  7.20it/s]\n",
      "\u001b[32m2024-09-21 14:38:24.023\u001b[0m | \u001b[1mINFO    \u001b[0m | \u001b[36mmodel.feature\u001b[0m:\u001b[36mextract_features\u001b[0m:\u001b[36m124\u001b[0m - \u001b[1m=========== DONE (49.20201873779297 s) ===========\u001b[0m\n",
      "\u001b[32m2024-09-21 14:38:24.023\u001b[0m | \u001b[1mINFO    \u001b[0m | \u001b[36mmodel.feature\u001b[0m:\u001b[36mextract_features\u001b[0m:\u001b[36m111\u001b[0m - \u001b[1mExtract features for block_num=34\u001b[0m\n",
      "Feature Extraction: 100%|██████████| 40/40 [00:15<00:00,  2.62it/s]\n",
      "Feature Extraction: 100%|██████████| 40/40 [00:13<00:00,  2.88it/s]\n",
      "Feature Extraction: 100%|██████████| 40/40 [00:09<00:00,  4.36it/s]\n",
      "Feature Extraction: 100%|██████████| 40/40 [00:06<00:00,  6.66it/s]\n",
      "\u001b[32m2024-09-21 14:39:11.748\u001b[0m | \u001b[1mINFO    \u001b[0m | \u001b[36mmodel.feature\u001b[0m:\u001b[36mextract_features\u001b[0m:\u001b[36m124\u001b[0m - \u001b[1m=========== DONE (47.72443604469299 s) ===========\u001b[0m\n"
     ]
    }
   ],
   "source": [
    "train_from = 12 # Feature from 0-11\n",
    "val_block_num = 33\n",
    "test_block_num = 34\n",
    "\n",
    "val = feature.extract_features(val_block_num, False)\n",
    "test = feature.extract_features(test_block_num, False)"
   ]
  },
  {
   "cell_type": "code",
   "execution_count": 11,
   "metadata": {},
   "outputs": [
    {
     "name": "stderr",
     "output_type": "stream",
     "text": [
      "\u001b[32m2024-09-21 14:42:36.179\u001b[0m | \u001b[1mINFO    \u001b[0m | \u001b[36mmodel.feature\u001b[0m:\u001b[36mextract_features\u001b[0m:\u001b[36m111\u001b[0m - \u001b[1mExtract features for block_num=12\u001b[0m\n",
      "Feature Extraction: 100%|██████████| 40/40 [00:48<00:00,  1.21s/it]\n",
      "Feature Extraction: 100%|██████████| 40/40 [00:23<00:00,  1.67it/s]\n",
      "Feature Extraction: 100%|██████████| 40/40 [01:05<00:00,  1.64s/it]\n",
      "Feature Extraction: 100%|██████████| 40/40 [00:13<00:00,  2.90it/s]\n",
      "\u001b[32m2024-09-21 14:45:12.770\u001b[0m | \u001b[1mINFO    \u001b[0m | \u001b[36mmodel.feature\u001b[0m:\u001b[36mextract_features\u001b[0m:\u001b[36m124\u001b[0m - \u001b[1m=========== DONE (156.5909993648529 s) ===========\u001b[0m\n",
      "\u001b[32m2024-09-21 14:45:12.771\u001b[0m | \u001b[1mINFO    \u001b[0m | \u001b[36mmodel.feature\u001b[0m:\u001b[36mextract_features\u001b[0m:\u001b[36m111\u001b[0m - \u001b[1mExtract features for block_num=13\u001b[0m\n",
      "Feature Extraction: 100%|██████████| 40/40 [01:03<00:00,  1.59s/it]\n",
      "Feature Extraction: 100%|██████████| 40/40 [00:26<00:00,  1.52it/s]\n",
      "Feature Extraction: 100%|██████████| 40/40 [00:18<00:00,  2.17it/s]\n",
      "Feature Extraction: 100%|██████████| 40/40 [00:10<00:00,  3.76it/s]\n",
      "\u001b[32m2024-09-21 14:47:16.682\u001b[0m | \u001b[1mINFO    \u001b[0m | \u001b[36mmodel.feature\u001b[0m:\u001b[36mextract_features\u001b[0m:\u001b[36m124\u001b[0m - \u001b[1m=========== DONE (123.91127157211304 s) ===========\u001b[0m\n",
      "\u001b[32m2024-09-21 14:47:16.701\u001b[0m | \u001b[1mINFO    \u001b[0m | \u001b[36mmodel.feature\u001b[0m:\u001b[36mextract_features\u001b[0m:\u001b[36m111\u001b[0m - \u001b[1mExtract features for block_num=14\u001b[0m\n",
      "Feature Extraction: 100%|██████████| 40/40 [00:25<00:00,  1.59it/s]\n",
      "Feature Extraction: 100%|██████████| 40/40 [00:27<00:00,  1.47it/s]\n",
      "Feature Extraction: 100%|██████████| 40/40 [00:18<00:00,  2.15it/s]\n",
      "Feature Extraction: 100%|██████████| 40/40 [00:09<00:00,  4.01it/s]\n",
      "\u001b[32m2024-09-21 14:48:42.493\u001b[0m | \u001b[1mINFO    \u001b[0m | \u001b[36mmodel.feature\u001b[0m:\u001b[36mextract_features\u001b[0m:\u001b[36m124\u001b[0m - \u001b[1m=========== DONE (85.79132509231567 s) ===========\u001b[0m\n",
      "\u001b[32m2024-09-21 14:48:42.554\u001b[0m | \u001b[1mINFO    \u001b[0m | \u001b[36mmodel.feature\u001b[0m:\u001b[36mextract_features\u001b[0m:\u001b[36m111\u001b[0m - \u001b[1mExtract features for block_num=15\u001b[0m\n",
      "Feature Extraction: 100%|██████████| 40/40 [00:26<00:00,  1.51it/s]\n",
      "Feature Extraction: 100%|██████████| 40/40 [00:25<00:00,  1.57it/s]\n",
      "Feature Extraction: 100%|██████████| 40/40 [00:15<00:00,  2.56it/s]\n",
      "Feature Extraction: 100%|██████████| 40/40 [00:10<00:00,  3.94it/s]\n",
      "\u001b[32m2024-09-21 14:50:05.121\u001b[0m | \u001b[1mINFO    \u001b[0m | \u001b[36mmodel.feature\u001b[0m:\u001b[36mextract_features\u001b[0m:\u001b[36m124\u001b[0m - \u001b[1m=========== DONE (82.56700921058655 s) ===========\u001b[0m\n",
      "\u001b[32m2024-09-21 14:50:05.203\u001b[0m | \u001b[1mINFO    \u001b[0m | \u001b[36mmodel.feature\u001b[0m:\u001b[36mextract_features\u001b[0m:\u001b[36m111\u001b[0m - \u001b[1mExtract features for block_num=16\u001b[0m\n",
      "Feature Extraction: 100%|██████████| 40/40 [00:27<00:00,  1.45it/s]\n",
      "Feature Extraction: 100%|██████████| 40/40 [00:27<00:00,  1.47it/s]\n",
      "Feature Extraction: 100%|██████████| 40/40 [00:16<00:00,  2.41it/s]\n",
      "Feature Extraction: 100%|██████████| 40/40 [00:10<00:00,  3.97it/s]\n",
      "\u001b[32m2024-09-21 14:51:31.548\u001b[0m | \u001b[1mINFO    \u001b[0m | \u001b[36mmodel.feature\u001b[0m:\u001b[36mextract_features\u001b[0m:\u001b[36m124\u001b[0m - \u001b[1m=========== DONE (86.34495425224304 s) ===========\u001b[0m\n",
      "\u001b[32m2024-09-21 14:51:31.701\u001b[0m | \u001b[1mINFO    \u001b[0m | \u001b[36mmodel.feature\u001b[0m:\u001b[36mextract_features\u001b[0m:\u001b[36m111\u001b[0m - \u001b[1mExtract features for block_num=17\u001b[0m\n",
      "Feature Extraction: 100%|██████████| 40/40 [00:28<00:00,  1.39it/s]\n",
      "Feature Extraction: 100%|██████████| 40/40 [00:26<00:00,  1.52it/s]\n",
      "Feature Extraction: 100%|██████████| 40/40 [00:14<00:00,  2.75it/s]\n",
      "Feature Extraction: 100%|██████████| 40/40 [00:09<00:00,  4.41it/s]\n",
      "\u001b[32m2024-09-21 14:52:55.163\u001b[0m | \u001b[1mINFO    \u001b[0m | \u001b[36mmodel.feature\u001b[0m:\u001b[36mextract_features\u001b[0m:\u001b[36m124\u001b[0m - \u001b[1m=========== DONE (83.46117353439331 s) ===========\u001b[0m\n",
      "\u001b[32m2024-09-21 14:52:55.236\u001b[0m | \u001b[1mINFO    \u001b[0m | \u001b[36mmodel.feature\u001b[0m:\u001b[36mextract_features\u001b[0m:\u001b[36m111\u001b[0m - \u001b[1mExtract features for block_num=18\u001b[0m\n",
      "Feature Extraction: 100%|██████████| 40/40 [00:24<00:00,  1.63it/s]\n",
      "Feature Extraction: 100%|██████████| 40/40 [00:22<00:00,  1.80it/s]\n",
      "Feature Extraction: 100%|██████████| 40/40 [00:14<00:00,  2.67it/s]\n",
      "Feature Extraction: 100%|██████████| 40/40 [00:09<00:00,  4.13it/s]\n",
      "\u001b[32m2024-09-21 14:54:11.112\u001b[0m | \u001b[1mINFO    \u001b[0m | \u001b[36mmodel.feature\u001b[0m:\u001b[36mextract_features\u001b[0m:\u001b[36m124\u001b[0m - \u001b[1m=========== DONE (75.87573862075806 s) ===========\u001b[0m\n",
      "\u001b[32m2024-09-21 14:54:11.183\u001b[0m | \u001b[1mINFO    \u001b[0m | \u001b[36mmodel.feature\u001b[0m:\u001b[36mextract_features\u001b[0m:\u001b[36m111\u001b[0m - \u001b[1mExtract features for block_num=19\u001b[0m\n",
      "Feature Extraction: 100%|██████████| 40/40 [00:25<00:00,  1.56it/s]\n",
      "Feature Extraction: 100%|██████████| 40/40 [00:22<00:00,  1.79it/s]\n",
      "Feature Extraction: 100%|██████████| 40/40 [00:14<00:00,  2.78it/s]\n",
      "Feature Extraction: 100%|██████████| 40/40 [00:09<00:00,  4.25it/s]\n",
      "\u001b[32m2024-09-21 14:55:27.329\u001b[0m | \u001b[1mINFO    \u001b[0m | \u001b[36mmodel.feature\u001b[0m:\u001b[36mextract_features\u001b[0m:\u001b[36m124\u001b[0m - \u001b[1m=========== DONE (76.14607644081116 s) ===========\u001b[0m\n",
      "\u001b[32m2024-09-21 14:55:27.420\u001b[0m | \u001b[1mINFO    \u001b[0m | \u001b[36mmodel.feature\u001b[0m:\u001b[36mextract_features\u001b[0m:\u001b[36m111\u001b[0m - \u001b[1mExtract features for block_num=20\u001b[0m\n",
      "Feature Extraction: 100%|██████████| 40/40 [00:26<00:00,  1.54it/s]\n",
      "Feature Extraction: 100%|██████████| 40/40 [00:23<00:00,  1.69it/s]\n",
      "Feature Extraction: 100%|██████████| 40/40 [00:15<00:00,  2.57it/s]\n",
      "Feature Extraction: 100%|██████████| 40/40 [00:09<00:00,  4.16it/s]\n",
      "\u001b[32m2024-09-21 14:56:46.693\u001b[0m | \u001b[1mINFO    \u001b[0m | \u001b[36mmodel.feature\u001b[0m:\u001b[36mextract_features\u001b[0m:\u001b[36m124\u001b[0m - \u001b[1m=========== DONE (79.27292656898499 s) ===========\u001b[0m\n",
      "\u001b[32m2024-09-21 14:56:46.795\u001b[0m | \u001b[1mINFO    \u001b[0m | \u001b[36mmodel.feature\u001b[0m:\u001b[36mextract_features\u001b[0m:\u001b[36m111\u001b[0m - \u001b[1mExtract features for block_num=21\u001b[0m\n",
      "Feature Extraction: 100%|██████████| 40/40 [00:24<00:00,  1.63it/s]\n",
      "Feature Extraction: 100%|██████████| 40/40 [00:24<00:00,  1.64it/s]\n",
      "Feature Extraction: 100%|██████████| 40/40 [00:16<00:00,  2.48it/s]\n",
      "Feature Extraction: 100%|██████████| 40/40 [00:08<00:00,  4.53it/s]\n",
      "\u001b[32m2024-09-21 14:58:05.235\u001b[0m | \u001b[1mINFO    \u001b[0m | \u001b[36mmodel.feature\u001b[0m:\u001b[36mextract_features\u001b[0m:\u001b[36m124\u001b[0m - \u001b[1m=========== DONE (78.44008922576904 s) ===========\u001b[0m\n",
      "\u001b[32m2024-09-21 14:58:05.459\u001b[0m | \u001b[1mINFO    \u001b[0m | \u001b[36mmodel.feature\u001b[0m:\u001b[36mextract_features\u001b[0m:\u001b[36m111\u001b[0m - \u001b[1mExtract features for block_num=22\u001b[0m\n",
      "Feature Extraction: 100%|██████████| 40/40 [00:24<00:00,  1.63it/s]\n",
      "Feature Extraction: 100%|██████████| 40/40 [00:25<00:00,  1.58it/s]\n",
      "Feature Extraction: 100%|██████████| 40/40 [00:19<00:00,  2.03it/s]\n",
      "Feature Extraction: 100%|██████████| 40/40 [00:10<00:00,  3.85it/s]\n",
      "\u001b[32m2024-09-21 14:59:30.144\u001b[0m | \u001b[1mINFO    \u001b[0m | \u001b[36mmodel.feature\u001b[0m:\u001b[36mextract_features\u001b[0m:\u001b[36m124\u001b[0m - \u001b[1m=========== DONE (84.68478560447693 s) ===========\u001b[0m\n",
      "\u001b[32m2024-09-21 14:59:30.500\u001b[0m | \u001b[1mINFO    \u001b[0m | \u001b[36mmodel.feature\u001b[0m:\u001b[36mextract_features\u001b[0m:\u001b[36m111\u001b[0m - \u001b[1mExtract features for block_num=23\u001b[0m\n",
      "Feature Extraction: 100%|██████████| 40/40 [00:26<00:00,  1.49it/s]\n",
      "Feature Extraction: 100%|██████████| 40/40 [00:23<00:00,  1.68it/s]\n",
      "Feature Extraction: 100%|██████████| 40/40 [00:17<00:00,  2.33it/s]\n",
      "Feature Extraction: 100%|██████████| 40/40 [00:10<00:00,  3.73it/s]\n",
      "\u001b[32m2024-09-21 15:00:53.963\u001b[0m | \u001b[1mINFO    \u001b[0m | \u001b[36mmodel.feature\u001b[0m:\u001b[36mextract_features\u001b[0m:\u001b[36m124\u001b[0m - \u001b[1m=========== DONE (83.46280550956726 s) ===========\u001b[0m\n",
      "\u001b[32m2024-09-21 15:00:54.432\u001b[0m | \u001b[1mINFO    \u001b[0m | \u001b[36mmodel.feature\u001b[0m:\u001b[36mextract_features\u001b[0m:\u001b[36m111\u001b[0m - \u001b[1mExtract features for block_num=24\u001b[0m\n",
      "Feature Extraction: 100%|██████████| 40/40 [00:26<00:00,  1.53it/s]\n",
      "Feature Extraction: 100%|██████████| 40/40 [00:25<00:00,  1.59it/s]\n",
      "Feature Extraction: 100%|██████████| 40/40 [00:18<00:00,  2.20it/s]\n",
      "Feature Extraction: 100%|██████████| 40/40 [00:16<00:00,  2.49it/s]\n",
      "\u001b[32m2024-09-21 15:02:25.870\u001b[0m | \u001b[1mINFO    \u001b[0m | \u001b[36mmodel.feature\u001b[0m:\u001b[36mextract_features\u001b[0m:\u001b[36m124\u001b[0m - \u001b[1m=========== DONE (91.43803071975708 s) ===========\u001b[0m\n",
      "\u001b[32m2024-09-21 15:02:26.374\u001b[0m | \u001b[1mINFO    \u001b[0m | \u001b[36mmodel.feature\u001b[0m:\u001b[36mextract_features\u001b[0m:\u001b[36m111\u001b[0m - \u001b[1mExtract features for block_num=25\u001b[0m\n",
      "Feature Extraction: 100%|██████████| 40/40 [00:30<00:00,  1.31it/s]\n",
      "Feature Extraction: 100%|██████████| 40/40 [00:28<00:00,  1.39it/s]\n",
      "Feature Extraction: 100%|██████████| 40/40 [00:22<00:00,  1.77it/s]\n",
      "Feature Extraction: 100%|██████████| 40/40 [00:10<00:00,  3.73it/s]\n",
      "\u001b[32m2024-09-21 15:04:04.381\u001b[0m | \u001b[1mINFO    \u001b[0m | \u001b[36mmodel.feature\u001b[0m:\u001b[36mextract_features\u001b[0m:\u001b[36m124\u001b[0m - \u001b[1m=========== DONE (98.0067286491394 s) ===========\u001b[0m\n",
      "\u001b[32m2024-09-21 15:04:04.823\u001b[0m | \u001b[1mINFO    \u001b[0m | \u001b[36mmodel.feature\u001b[0m:\u001b[36mextract_features\u001b[0m:\u001b[36m111\u001b[0m - \u001b[1mExtract features for block_num=26\u001b[0m\n",
      "Feature Extraction: 100%|██████████| 40/40 [00:26<00:00,  1.53it/s]\n",
      "Feature Extraction: 100%|██████████| 40/40 [00:25<00:00,  1.55it/s]\n",
      "Feature Extraction: 100%|██████████| 40/40 [00:18<00:00,  2.14it/s]\n",
      "Feature Extraction: 100%|██████████| 40/40 [00:09<00:00,  4.14it/s]\n",
      "\u001b[32m2024-09-21 15:05:29.876\u001b[0m | \u001b[1mINFO    \u001b[0m | \u001b[36mmodel.feature\u001b[0m:\u001b[36mextract_features\u001b[0m:\u001b[36m124\u001b[0m - \u001b[1m=========== DONE (85.05344605445862 s) ===========\u001b[0m\n",
      "\u001b[32m2024-09-21 15:05:30.244\u001b[0m | \u001b[1mINFO    \u001b[0m | \u001b[36mmodel.feature\u001b[0m:\u001b[36mextract_features\u001b[0m:\u001b[36m111\u001b[0m - \u001b[1mExtract features for block_num=27\u001b[0m\n",
      "Feature Extraction: 100%|██████████| 40/40 [00:26<00:00,  1.49it/s]\n",
      "Feature Extraction: 100%|██████████| 40/40 [00:26<00:00,  1.51it/s]\n",
      "Feature Extraction: 100%|██████████| 40/40 [00:19<00:00,  2.01it/s]\n",
      "Feature Extraction: 100%|██████████| 40/40 [00:12<00:00,  3.33it/s]\n",
      "\u001b[32m2024-09-21 15:07:00.034\u001b[0m | \u001b[1mINFO    \u001b[0m | \u001b[36mmodel.feature\u001b[0m:\u001b[36mextract_features\u001b[0m:\u001b[36m124\u001b[0m - \u001b[1m=========== DONE (89.79009318351746 s) ===========\u001b[0m\n",
      "\u001b[32m2024-09-21 15:07:00.761\u001b[0m | \u001b[1mINFO    \u001b[0m | \u001b[36mmodel.feature\u001b[0m:\u001b[36mextract_features\u001b[0m:\u001b[36m111\u001b[0m - \u001b[1mExtract features for block_num=28\u001b[0m\n",
      "Feature Extraction: 100%|██████████| 40/40 [00:35<00:00,  1.12it/s]\n",
      "Feature Extraction: 100%|██████████| 40/40 [00:32<00:00,  1.23it/s]\n",
      "Feature Extraction: 100%|██████████| 40/40 [00:21<00:00,  1.82it/s]\n",
      "Feature Extraction: 100%|██████████| 40/40 [00:09<00:00,  4.21it/s]\n",
      "\u001b[32m2024-09-21 15:08:45.946\u001b[0m | \u001b[1mINFO    \u001b[0m | \u001b[36mmodel.feature\u001b[0m:\u001b[36mextract_features\u001b[0m:\u001b[36m124\u001b[0m - \u001b[1m=========== DONE (105.18564701080322 s) ===========\u001b[0m\n",
      "\u001b[32m2024-09-21 15:08:46.541\u001b[0m | \u001b[1mINFO    \u001b[0m | \u001b[36mmodel.feature\u001b[0m:\u001b[36mextract_features\u001b[0m:\u001b[36m111\u001b[0m - \u001b[1mExtract features for block_num=29\u001b[0m\n",
      "Feature Extraction: 100%|██████████| 40/40 [00:30<00:00,  1.33it/s]\n",
      "Feature Extraction: 100%|██████████| 40/40 [00:29<00:00,  1.34it/s]\n",
      "Feature Extraction: 100%|██████████| 40/40 [00:14<00:00,  2.75it/s]\n",
      "Feature Extraction: 100%|██████████| 40/40 [00:08<00:00,  4.93it/s]\n",
      "\u001b[32m2024-09-21 15:10:13.847\u001b[0m | \u001b[1mINFO    \u001b[0m | \u001b[36mmodel.feature\u001b[0m:\u001b[36mextract_features\u001b[0m:\u001b[36m124\u001b[0m - \u001b[1m=========== DONE (87.30522418022156 s) ===========\u001b[0m\n",
      "\u001b[32m2024-09-21 15:10:14.422\u001b[0m | \u001b[1mINFO    \u001b[0m | \u001b[36mmodel.feature\u001b[0m:\u001b[36mextract_features\u001b[0m:\u001b[36m111\u001b[0m - \u001b[1mExtract features for block_num=30\u001b[0m\n",
      "Feature Extraction: 100%|██████████| 40/40 [00:28<00:00,  1.42it/s]\n",
      "Feature Extraction: 100%|██████████| 40/40 [00:24<00:00,  1.66it/s]\n",
      "Feature Extraction: 100%|██████████| 40/40 [00:12<00:00,  3.11it/s]\n",
      "Feature Extraction: 100%|██████████| 40/40 [00:07<00:00,  5.17it/s]\n",
      "\u001b[32m2024-09-21 15:11:31.498\u001b[0m | \u001b[1mINFO    \u001b[0m | \u001b[36mmodel.feature\u001b[0m:\u001b[36mextract_features\u001b[0m:\u001b[36m124\u001b[0m - \u001b[1m=========== DONE (77.07665777206421 s) ===========\u001b[0m\n",
      "\u001b[32m2024-09-21 15:11:31.969\u001b[0m | \u001b[1mINFO    \u001b[0m | \u001b[36mmodel.feature\u001b[0m:\u001b[36mextract_features\u001b[0m:\u001b[36m111\u001b[0m - \u001b[1mExtract features for block_num=31\u001b[0m\n",
      "Feature Extraction: 100%|██████████| 40/40 [00:26<00:00,  1.49it/s]\n",
      "Feature Extraction: 100%|██████████| 40/40 [00:20<00:00,  1.93it/s]\n",
      "Feature Extraction: 100%|██████████| 40/40 [00:12<00:00,  3.14it/s]\n",
      "Feature Extraction: 100%|██████████| 40/40 [00:07<00:00,  5.24it/s]\n",
      "\u001b[32m2024-09-21 15:12:43.618\u001b[0m | \u001b[1mINFO    \u001b[0m | \u001b[36mmodel.feature\u001b[0m:\u001b[36mextract_features\u001b[0m:\u001b[36m124\u001b[0m - \u001b[1m=========== DONE (71.64924669265747 s) ===========\u001b[0m\n",
      "\u001b[32m2024-09-21 15:12:43.886\u001b[0m | \u001b[1mINFO    \u001b[0m | \u001b[36mmodel.feature\u001b[0m:\u001b[36mextract_features\u001b[0m:\u001b[36m111\u001b[0m - \u001b[1mExtract features for block_num=32\u001b[0m\n",
      "Feature Extraction: 100%|██████████| 40/40 [00:24<00:00,  1.62it/s]\n",
      "Feature Extraction: 100%|██████████| 40/40 [00:19<00:00,  2.05it/s]\n",
      "Feature Extraction: 100%|██████████| 40/40 [00:11<00:00,  3.42it/s]\n",
      "Feature Extraction: 100%|██████████| 40/40 [00:07<00:00,  5.67it/s]\n",
      "\u001b[32m2024-09-21 15:13:50.370\u001b[0m | \u001b[1mINFO    \u001b[0m | \u001b[36mmodel.feature\u001b[0m:\u001b[36mextract_features\u001b[0m:\u001b[36m124\u001b[0m - \u001b[1m=========== DONE (66.4838798046112 s) ===========\u001b[0m\n"
     ]
    }
   ],
   "source": [
    "train = pd.DataFrame()\n",
    "for block_num in range(train_from, val_block_num):\n",
    "    tmp = feature.extract_features(block_num)\n",
    "    train = pd.concat([train, tmp])"
   ]
  },
  {
   "cell_type": "code",
   "execution_count": 12,
   "metadata": {},
   "outputs": [],
   "source": [
    "output_dir = Path(\"../data/processed\")\n",
    "val.to_parquet(output_dir.joinpath(\"val.parquet\"), index=False)\n",
    "test.to_parquet(output_dir.joinpath(\"test.parquet\"), index=False)\n",
    "train.to_parquet(output_dir.joinpath(\"train.parquet\"), index=False)"
   ]
  },
  {
   "cell_type": "markdown",
   "metadata": {},
   "source": [
    "### 3) Build Model"
   ]
  },
  {
   "cell_type": "code",
   "execution_count": 1,
   "metadata": {},
   "outputs": [],
   "source": [
    "import pandas as pd\n",
    "import numpy as np\n",
    "from pathlib import Path\n",
    "from sklearn.metrics import mean_squared_error\n",
    "from sklearn.linear_model import LinearRegression\n",
    "from sklearn.linear_model import Ridge\n",
    "from sklearn.tree import DecisionTreeRegressor "
   ]
  },
  {
   "cell_type": "code",
   "execution_count": 2,
   "metadata": {},
   "outputs": [],
   "source": [
    "def split_X_y(data: pd.DataFrame) -> tuple:\n",
    "    X = data.drop(\n",
    "        columns=[\"date_block_num\", \"id\", \"item_id\", \"item_cnt_month\"],\n",
    "        errors=\"ignore\"\n",
    "    )\n",
    "    y = data[\"item_cnt_month\"]\n",
    "    return X, y"
   ]
  },
  {
   "cell_type": "code",
   "execution_count": 3,
   "metadata": {},
   "outputs": [],
   "source": [
    "output_dir = Path(\"../data/processed\")\n",
    "train = pd.read_parquet(output_dir.joinpath(\"train.parquet\"))\n",
    "test = pd.read_parquet(output_dir.joinpath(\"test.parquet\"))\n",
    "val = pd.read_parquet(output_dir.joinpath(\"val.parquet\"))"
   ]
  },
  {
   "cell_type": "code",
   "execution_count": 4,
   "metadata": {},
   "outputs": [],
   "source": [
    "train_X, train_y = split_X_y(train)\n",
    "val_X, val_y = split_X_y(val)"
   ]
  },
  {
   "cell_type": "code",
   "execution_count": 9,
   "metadata": {},
   "outputs": [],
   "source": [
    "list_models = [\n",
    "    Ridge(), LinearRegression(),\n",
    "    DecisionTreeRegressor(min_samples_leaf=10)\n",
    "]"
   ]
  },
  {
   "cell_type": "code",
   "execution_count": 10,
   "metadata": {},
   "outputs": [
    {
     "name": "stdout",
     "output_type": "stream",
     "text": [
      "Model: Ridge()\n",
      "RMSE: 12.610867003207169\n",
      "Model: LinearRegression()\n",
      "RMSE: 12.610905983790767\n",
      "Model: DecisionTreeRegressor(min_samples_leaf=10)\n",
      "RMSE: 12.804096205599864\n"
     ]
    }
   ],
   "source": [
    "best_model = list_models[0]\n",
    "best_rmse = 9999999\n",
    "for model in list_models:\n",
    "    model.fit(train_X, train_y)\n",
    "    pred = np.round(model.predict(val_X))\n",
    "    rmse = np.sqrt(mean_squared_error(val_y, pred))\n",
    "    if rmse < best_rmse:\n",
    "        best_rmse = rmse\n",
    "        best_model = model\n",
    "    print(f\"Model: {model}\")\n",
    "    print(f\"RMSE: {rmse}\")"
   ]
  },
  {
   "cell_type": "code",
   "execution_count": 12,
   "metadata": {},
   "outputs": [
    {
     "data": {
      "text/plain": [
       "<Axes: >"
      ]
     },
     "execution_count": 12,
     "metadata": {},
     "output_type": "execute_result"
    },
    {
     "data": {
      "image/png": "[encoded data removed]",
      "text/plain": [
       "<Figure size 600x300 with 1 Axes>"
      ]
     },
     "metadata": {},
     "output_type": "display_data"
    }
   ],
   "source": [
    "tree_model = list_models[-1]\n",
    "feat_importances = pd.DataFrame(tree_model.feature_importances_, index=train_X.columns, columns=[\"Importance\"])\n",
    "feat_importances.sort_values(by='Importance', ascending=False, inplace=True)\n",
    "feat_importances = feat_importances.head(30)\n",
    "feat_importances.plot(kind='bar', figsize=(6,3))"
   ]
  },
  {
   "cell_type": "markdown",
   "metadata": {},
   "source": [
    "### 4) Save model and make predictions\n",
    "- Save model and write prediction to our database (in this case I just write to parquet file)\n",
    "- When building model, we could use mlflow to track the model experiments and manage the best model as well"
   ]
  },
  {
   "cell_type": "code",
   "execution_count": 15,
   "metadata": {},
   "outputs": [],
   "source": [
    "# Because testset only have features, no sales label\n",
    "# so we do not need to store as variablej\n",
    "test_X, _ = split_X_y(test)\n",
    "test_pred = test[[\"id\"]].copy()\n",
    "test_pred[\"prediction\"] = np.round(best_model.predict(test_X))"
   ]
  },
  {
   "cell_type": "code",
   "execution_count": 20,
   "metadata": {},
   "outputs": [],
   "source": [
    "import pickle as pkl\n",
    "output_dir = Path(\"../data/model\")\n",
    "pkl.dump(best_model, open(output_dir.joinpath(\"model.pkl\"), \"wb\"))\n",
    "test_pred.to_parquet(output_dir.joinpath(\"task1.parquet\"), index=False)"
   ]
  },
  {
   "cell_type": "code",
   "execution_count": 22,
   "metadata": {},
   "outputs": [
    {
     "data": {
      "text/html": [
       "<div>\n",
       "<style scoped>\n",
       "    .dataframe tbody tr th:only-of-type {\n",
       "        vertical-align: middle;\n",
       "    }\n",
       "\n",
       "    .dataframe tbody tr th {\n",
       "        vertical-align: top;\n",
       "    }\n",
       "\n",
       "    .dataframe thead th {\n",
       "        text-align: right;\n",
       "    }\n",
       "</style>\n",
       "<table border=\"1\" class=\"dataframe\">\n",
       "  <thead>\n",
       "    <tr style=\"text-align: right;\">\n",
       "      <th></th>\n",
       "      <th>id</th>\n",
       "      <th>prediction</th>\n",
       "    </tr>\n",
       "  </thead>\n",
       "  <tbody>\n",
       "    <tr>\n",
       "      <th>0</th>\n",
       "      <td>10-10003</td>\n",
       "      <td>1.0</td>\n",
       "    </tr>\n",
       "    <tr>\n",
       "      <th>1</th>\n",
       "      <td>10-10005</td>\n",
       "      <td>1.0</td>\n",
       "    </tr>\n",
       "    <tr>\n",
       "      <th>2</th>\n",
       "      <td>10-10007</td>\n",
       "      <td>1.0</td>\n",
       "    </tr>\n",
       "    <tr>\n",
       "      <th>3</th>\n",
       "      <td>10-10021</td>\n",
       "      <td>1.0</td>\n",
       "    </tr>\n",
       "    <tr>\n",
       "      <th>4</th>\n",
       "      <td>10-10027</td>\n",
       "      <td>1.0</td>\n",
       "    </tr>\n",
       "    <tr>\n",
       "      <th>5</th>\n",
       "      <td>10-10028</td>\n",
       "      <td>1.0</td>\n",
       "    </tr>\n",
       "    <tr>\n",
       "      <th>6</th>\n",
       "      <td>10-10029</td>\n",
       "      <td>1.0</td>\n",
       "    </tr>\n",
       "    <tr>\n",
       "      <th>7</th>\n",
       "      <td>10-10032</td>\n",
       "      <td>1.0</td>\n",
       "    </tr>\n",
       "    <tr>\n",
       "      <th>8</th>\n",
       "      <td>10-10039</td>\n",
       "      <td>1.0</td>\n",
       "    </tr>\n",
       "    <tr>\n",
       "      <th>9</th>\n",
       "      <td>10-10042</td>\n",
       "      <td>1.0</td>\n",
       "    </tr>\n",
       "  </tbody>\n",
       "</table>\n",
       "</div>"
      ],
      "text/plain": [
       "         id  prediction\n",
       "0  10-10003         1.0\n",
       "1  10-10005         1.0\n",
       "2  10-10007         1.0\n",
       "3  10-10021         1.0\n",
       "4  10-10027         1.0\n",
       "5  10-10028         1.0\n",
       "6  10-10029         1.0\n",
       "7  10-10032         1.0\n",
       "8  10-10039         1.0\n",
       "9  10-10042         1.0"
      ]
     },
     "execution_count": 22,
     "metadata": {},
     "output_type": "execute_result"
    }
   ],
   "source": [
    "pd.read_parquet(output_dir.joinpath(\"task1.parquet\")).head(10)"
   ]
  },
  {
   "cell_type": "markdown",
   "metadata": {},
   "source": [
    "# Task 2\n",
    "In this task, I break into steps:\n",
    "- Model preparation: pre-computing approach\n",
    "- API service: FastAPI/Flask/Django\n",
    "- Deployment: batch processing + containerization\n",
    "- Monitoring: data drift\n",
    "- Source code management: GitHub\n",
    "\n",
    "### 1) Model preparation \n",
    "To support for task 2, we need to generate predictions for all shop-item and as I checked, it has around 200K shop-item combinations. The number of combinations is small, and we do not need to make inference on the fly, therefore, pre-computing predictions approach is suitable.\n",
    "\n",
    "#### Why pre-computing approach\n",
    "__Pros__\n",
    "Pros | Description \n",
    "-|-\n",
    "Low latency | It has low latency and critical for real-time application (even the prediction is not real time)\n",
    "Low resource | No heavy computational tasks such as model inference and feature extractions\n",
    "Batch processing efficiency | Arrange time to schedule for the jobs to compute and refresh predictions\n",
    "\n",
    "__Cons__\n",
    "Cons | Description\n",
    "-|-\n",
    "Storage overhead | Storing predictions for large number of items can lead to increase storage overhead\n",
    "Less flexibility | If we need real time user input such as user behavior change in seconds, and need to refresh the feature, this approach can not do that\n",
    "\n",
    "- However, we have a limit set of shop-item and that number is small, using pre-computing predictions is suitable\n",
    "- The storage cost is low (only costs about 1.8MB for ~200k predictions)\n",
    "\n",
    "### 2) API to serve model\n",
    "Based on the background of the team, we can choose FastAPI/Flask or Django, however, I really familiar with FastAPI or Flask than Django, I go for one of them, in this case it is FastAPI. The reason I choose to use FastAPI is because it is designed to build API while Flask is designed to build for both API and web UI (I like the `single responsibility` principal).\n",
    "\n",
    "In this task, we only need to build one API to respond the prediction to user `/predict_sales`, this route receive two params:\n",
    "- `shop_id`: int\n",
    "- `item_id`: int\n",
    "\n",
    "### 3) Model deployment\n",
    "Once we have the solution and API to serve the model, a job to compute predictions every month is a need and the way to package our application is essential. We should use docker to build image, test it in our local machine and bring the image to wherever we want, docker ensures that the same image deliver the same results no matter what operating system you run (just in case that you run on different architecture which is not supported by that image, for ex: build in x86 and run on arm64). \n",
    "\n",
    "### 4) Model monitoring\n",
    "To monitor our model performance over time, there are some metrics and concepts we need to put into consideration:\n",
    "- Performance metrics: RMSE\n",
    "- Data drift: use statistical tests to detect data drifts, or use tool like `evidently`\n",
    "- Model drift: check the model performance through the performance metric over time (to check if it degrades)\n",
    "- Logging and tracking: to monitor the model version, we could use `mlflow` to do so\n",
    "- Setup automated re-train if data drfit or model drift detected"
   ]
  },
  {
   "cell_type": "markdown",
   "metadata": {},
   "source": [
    "### 5) This is simple pipeline to predict for all shop-item combinations"
   ]
  },
  {
   "cell_type": "code",
   "execution_count": 35,
   "metadata": {},
   "outputs": [],
   "source": [
    "import numpy as np\n",
    "import pickle as pkl\n",
    "from pathlib import Path\n",
    "from model.dataset import Dataset\n",
    "from model.feature import FeatureExtraction"
   ]
  },
  {
   "cell_type": "code",
   "execution_count": 25,
   "metadata": {},
   "outputs": [
    {
     "name": "stderr",
     "output_type": "stream",
     "text": [
      "\u001b[32m2024-09-21 15:28:54.055\u001b[0m | \u001b[1mINFO    \u001b[0m | \u001b[36mmodel.dataset\u001b[0m:\u001b[36m_prepare_dataset\u001b[0m:\u001b[36m52\u001b[0m - \u001b[1mTest date block num: 34\u001b[0m\n"
     ]
    }
   ],
   "source": [
    "dataset = Dataset(\"../data/raw\")\n",
    "feature = FeatureExtraction(dataset)"
   ]
  },
  {
   "cell_type": "code",
   "execution_count": 28,
   "metadata": {},
   "outputs": [
    {
     "name": "stderr",
     "output_type": "stream",
     "text": [
      "Feature Extraction: 100%|██████████| 40/40 [00:15<00:00,  2.61it/s]\n",
      "Feature Extraction: 100%|██████████| 40/40 [00:14<00:00,  2.85it/s]\n",
      "Feature Extraction: 100%|██████████| 40/40 [00:09<00:00,  4.25it/s]\n",
      "Feature Extraction: 100%|██████████| 40/40 [00:06<00:00,  6.17it/s]\n"
     ]
    }
   ],
   "source": [
    "block_num = 34\n",
    "data = dataset.generate(34, 1)\n",
    "data = feature.add_features(data, 34)"
   ]
  },
  {
   "cell_type": "code",
   "execution_count": 37,
   "metadata": {},
   "outputs": [],
   "source": [
    "model_dir = Path(\"../data/model\")\n",
    "model = pkl.load(open(model_dir.joinpath(\"model.pkl\"), \"rb\"))\n",
    "X, _ = split_X_y(data)\n",
    "y_hat = np.round(model.predict(X))\n"
   ]
  },
  {
   "cell_type": "code",
   "execution_count": 39,
   "metadata": {},
   "outputs": [
    {
     "data": {
      "text/html": [
       "<div>\n",
       "<style scoped>\n",
       "    .dataframe tbody tr th:only-of-type {\n",
       "        vertical-align: middle;\n",
       "    }\n",
       "\n",
       "    .dataframe tbody tr th {\n",
       "        vertical-align: top;\n",
       "    }\n",
       "\n",
       "    .dataframe thead th {\n",
       "        text-align: right;\n",
       "    }\n",
       "</style>\n",
       "<table border=\"1\" class=\"dataframe\">\n",
       "  <thead>\n",
       "    <tr style=\"text-align: right;\">\n",
       "      <th></th>\n",
       "      <th>id</th>\n",
       "      <th>prediction</th>\n",
       "    </tr>\n",
       "  </thead>\n",
       "  <tbody>\n",
       "    <tr>\n",
       "      <th>0</th>\n",
       "      <td>3-20482</td>\n",
       "      <td>1.0</td>\n",
       "    </tr>\n",
       "    <tr>\n",
       "      <th>1</th>\n",
       "      <td>27-2235</td>\n",
       "      <td>2.0</td>\n",
       "    </tr>\n",
       "    <tr>\n",
       "      <th>2</th>\n",
       "      <td>17-1189</td>\n",
       "      <td>-0.0</td>\n",
       "    </tr>\n",
       "  </tbody>\n",
       "</table>\n",
       "</div>"
      ],
      "text/plain": [
       "        id  prediction\n",
       "0  3-20482         1.0\n",
       "1  27-2235         2.0\n",
       "2  17-1189        -0.0"
      ]
     },
     "execution_count": 39,
     "metadata": {},
     "output_type": "execute_result"
    }
   ],
   "source": [
    "test_pred = data[[\"id\"]].copy()\n",
    "test_pred[\"prediction\"] = y_hat\n",
    "test_pred.head(3)"
   ]
  },
  {
   "cell_type": "code",
   "execution_count": 40,
   "metadata": {},
   "outputs": [],
   "source": [
    "output_dir = Path(\"../data/model\")\n",
    "test_pred.to_parquet(output_dir.joinpath(\"task2.parquet\"), index=False)"
   ]
  }
 ],
 "metadata": {
  "colab": {
   "provenance": []
  },
  "kernelspec": {
   "display_name": "Python 3 (ipykernel)",
   "language": "python",
   "name": "python3"
  },
  "language_info": {
   "codemirror_mode": {
    "name": "ipython",
    "version": 3
   },
   "file_extension": ".py",
   "mimetype": "text/x-python",
   "name": "python",
   "nbconvert_exporter": "python",
   "pygments_lexer": "ipython3",
   "version": "3.10.12"
  }
 },
 "nbformat": 4,
 "nbformat_minor": 4
}
